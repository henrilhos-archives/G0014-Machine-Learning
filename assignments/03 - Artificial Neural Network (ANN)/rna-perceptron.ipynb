{
 "cells": [
  {
   "attachments": {},
   "cell_type": "markdown",
   "metadata": {},
   "source": [
    "# ANN - Perceptron"
   ]
  },
  {
   "cell_type": "code",
   "execution_count": 1,
   "metadata": {},
   "outputs": [
    {
     "name": "stdout",
     "output_type": "stream",
     "text": [
      "Defaulting to user installation because normal site-packages is not writeable\n",
      "Requirement already satisfied: scikit-learn in /Users/henrilhos/Library/Python/3.9/lib/python/site-packages (1.2.2)\n",
      "Requirement already satisfied: threadpoolctl>=2.0.0 in /Users/henrilhos/Library/Python/3.9/lib/python/site-packages (from scikit-learn) (3.1.0)\n",
      "Requirement already satisfied: numpy>=1.17.3 in /Users/henrilhos/Library/Python/3.9/lib/python/site-packages (from scikit-learn) (1.24.2)\n",
      "Requirement already satisfied: scipy>=1.3.2 in /Users/henrilhos/Library/Python/3.9/lib/python/site-packages (from scikit-learn) (1.10.1)\n",
      "Requirement already satisfied: joblib>=1.1.1 in /Users/henrilhos/Library/Python/3.9/lib/python/site-packages (from scikit-learn) (1.2.0)\n",
      "Note: you may need to restart the kernel to use updated packages.\n"
     ]
    }
   ],
   "source": [
    "%pip install scikit-learn"
   ]
  },
  {
   "cell_type": "code",
   "execution_count": 2,
   "metadata": {},
   "outputs": [],
   "source": [
    "from sklearn.linear_model import Perceptron\n",
    "from sklearn.metrics.pairwise import distance\n",
    "from itertools import product\n",
    "import numpy as np\n",
    "import matplotlib.pyplot as plt"
   ]
  },
  {
   "cell_type": "code",
   "execution_count": 3,
   "metadata": {},
   "outputs": [],
   "source": [
    "dataset = [[0, 0], [0, 1], [1, 0], [1, 1]]\n",
    "labels = [0, 0, 0, 1]"
   ]
  },
  {
   "cell_type": "code",
   "execution_count": 4,
   "metadata": {},
   "outputs": [
    {
     "data": {
      "text/plain": [
       "1.0"
      ]
     },
     "execution_count": 4,
     "metadata": {},
     "output_type": "execute_result"
    }
   ],
   "source": [
    "classifier = Perceptron(max_iter=30)\n",
    "classifier.fit(dataset, labels)\n",
    "\n",
    "classifier.score(dataset, labels)"
   ]
  },
  {
   "cell_type": "code",
   "execution_count": 5,
   "metadata": {},
   "outputs": [],
   "source": [
    "x_values = np.linspace(0, 1, 100)\n",
    "y_values = np.linspace(0, 1, 100)"
   ]
  },
  {
   "cell_type": "code",
   "execution_count": 6,
   "metadata": {},
   "outputs": [],
   "source": [
    "point_grid = list(product(x_values, y_values))\n",
    "distances = classifier.decision_function(point_grid)\n",
    "abs_distances = [abs(pt) for pt in distances]"
   ]
  },
  {
   "cell_type": "code",
   "execution_count": 7,
   "metadata": {},
   "outputs": [
    {
     "data": {
      "image/png": "[encoded data removed]",
      "text/plain": [
       "<Figure size 640x480 with 2 Axes>"
      ]
     },
     "metadata": {},
     "output_type": "display_data"
    }
   ],
   "source": [
    "distance_matrix = np.reshape(abs_distances, (100, 100))\n",
    "heatmap = plt.pcolormesh(x_values, y_values, distance_matrix)\n",
    "\n",
    "plt.colorbar(heatmap)\n",
    "plt.show()"
   ]
  },
  {
   "attachments": {},
   "cell_type": "markdown",
   "metadata": {},
   "source": [
    "Solução sem biblioteca de Machine Learning"
   ]
  },
  {
   "cell_type": "code",
   "execution_count": 8,
   "metadata": {},
   "outputs": [
    {
     "name": "stdout",
     "output_type": "stream",
     "text": [
      "2.0 ## [-0.11922157  1.38287576 -0.52152159]\n",
      "4.0 ## [ 1.88077843  1.38287576 -0.52152159]\n",
      "0.0 ## [ 1.88077843  1.38287576 -0.52152159]\n",
      "N. iterations: 3\n",
      "1\n",
      "1\n",
      "1\n",
      "-1\n"
     ]
    }
   ],
   "source": [
    "def f(u):\n",
    "    if u >= 0:\n",
    "        return 1\n",
    "    else:\n",
    "        return -1\n",
    "\n",
    "def findOutput(data, w):\n",
    "    u = 0.0\n",
    "    for i in range(0, len(data)):\n",
    "        u += data[i] * w[i]\n",
    "\n",
    "    return f(u)\n",
    "\n",
    "# initialization\n",
    "p = [[1, 1, -1], [1, -1, -1], [-1, 1, -1], [-1, -1, -1]]\n",
    "d = [1, 1, 1, -1]\n",
    "w = np.random.rand(len(p[0]))\n",
    "\n",
    "c = 0.5\n",
    "d_error = 0.01\n",
    "\n",
    "iter = 0\n",
    "while True:\n",
    "    error = 0\n",
    "    for i in range(0, len(p)):\n",
    "        o = findOutput(p[i], w)\n",
    "        error += ((d[i] - o) ** 2) / 2\n",
    "        learningSignal = c * (d[i] - o)\n",
    "        for k in range(0, len(p[i])):\n",
    "            w[k] += learningSignal * p[i][k]\n",
    "\n",
    "    iter += 1\n",
    "    print(error, \"##\", w)\n",
    "    if error < d_error:\n",
    "        print('N. iterations:', iter)\n",
    "        break\n",
    "\n",
    "print(findOutput([1, 1, -1], w))\n",
    "print(findOutput([1, -1, -1], w))\n",
    "print(findOutput([-1, 1, -1], w))\n",
    "print(findOutput([-1, -1, -1], w))"
   ]
  }
 ],
 "metadata": {
  "kernelspec": {
   "display_name": "Python 3",
   "language": "python",
   "name": "python3"
  },
  "language_info": {
   "codemirror_mode": {
    "name": "ipython",
    "version": 3
   },
   "file_extension": ".py",
   "mimetype": "text/x-python",
   "name": "python",
   "nbconvert_exporter": "python",
   "pygments_lexer": "ipython3",
   "version": "3.9.6"
  },
  "orig_nbformat": 4
 },
 "nbformat": 4,
 "nbformat_minor": 2
}
